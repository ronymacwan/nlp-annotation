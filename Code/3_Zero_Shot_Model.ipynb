{
  "nbformat": 4,
  "nbformat_minor": 0,
  "metadata": {
    "colab": {
      "provenance": []
    },
    "kernelspec": {
      "name": "python3",
      "display_name": "Python 3"
    },
    "language_info": {
      "name": "python"
    }
  },
  "cells": [
    {
      "cell_type": "code",
      "execution_count": null,
      "metadata": {
        "colab": {
          "base_uri": "https://localhost:8080/"
        },
        "id": "ZKxGy9FKyP7T",
        "outputId": "5eddf550-a29c-4be2-b890-41cde879b8fc"
      },
      "outputs": [
        {
          "output_type": "stream",
          "name": "stdout",
          "text": [
            "Requirement already satisfied: transformers in /usr/local/lib/python3.10/dist-packages (4.46.2)\n",
            "Requirement already satisfied: filelock in /usr/local/lib/python3.10/dist-packages (from transformers) (3.16.1)\n",
            "Requirement already satisfied: huggingface-hub<1.0,>=0.23.2 in /usr/local/lib/python3.10/dist-packages (from transformers) (0.26.2)\n",
            "Requirement already satisfied: numpy>=1.17 in /usr/local/lib/python3.10/dist-packages (from transformers) (1.26.4)\n",
            "Requirement already satisfied: packaging>=20.0 in /usr/local/lib/python3.10/dist-packages (from transformers) (24.2)\n",
            "Requirement already satisfied: pyyaml>=5.1 in /usr/local/lib/python3.10/dist-packages (from transformers) (6.0.2)\n",
            "Requirement already satisfied: regex!=2019.12.17 in /usr/local/lib/python3.10/dist-packages (from transformers) (2024.9.11)\n",
            "Requirement already satisfied: requests in /usr/local/lib/python3.10/dist-packages (from transformers) (2.32.3)\n",
            "Requirement already satisfied: safetensors>=0.4.1 in /usr/local/lib/python3.10/dist-packages (from transformers) (0.4.5)\n",
            "Requirement already satisfied: tokenizers<0.21,>=0.20 in /usr/local/lib/python3.10/dist-packages (from transformers) (0.20.3)\n",
            "Requirement already satisfied: tqdm>=4.27 in /usr/local/lib/python3.10/dist-packages (from transformers) (4.66.6)\n",
            "Requirement already satisfied: fsspec>=2023.5.0 in /usr/local/lib/python3.10/dist-packages (from huggingface-hub<1.0,>=0.23.2->transformers) (2024.10.0)\n",
            "Requirement already satisfied: typing-extensions>=3.7.4.3 in /usr/local/lib/python3.10/dist-packages (from huggingface-hub<1.0,>=0.23.2->transformers) (4.12.2)\n",
            "Requirement already satisfied: charset-normalizer<4,>=2 in /usr/local/lib/python3.10/dist-packages (from requests->transformers) (3.4.0)\n",
            "Requirement already satisfied: idna<4,>=2.5 in /usr/local/lib/python3.10/dist-packages (from requests->transformers) (3.10)\n",
            "Requirement already satisfied: urllib3<3,>=1.21.1 in /usr/local/lib/python3.10/dist-packages (from requests->transformers) (2.2.3)\n",
            "Requirement already satisfied: certifi>=2017.4.17 in /usr/local/lib/python3.10/dist-packages (from requests->transformers) (2024.8.30)\n"
          ]
        }
      ],
      "source": [
        "pip install transformers"
      ]
    },
    {
      "cell_type": "code",
      "source": [
        "import pandas as pd\n",
        "from google.colab import drive\n",
        "drive.mount('/content/drive')"
      ],
      "metadata": {
        "colab": {
          "base_uri": "https://localhost:8080/"
        },
        "id": "Ykc0xgCVyWAd",
        "outputId": "d98f7712-1dae-4ca4-bcbe-35c837c4362c"
      },
      "execution_count": null,
      "outputs": [
        {
          "output_type": "stream",
          "name": "stdout",
          "text": [
            "Mounted at /content/drive\n"
          ]
        }
      ]
    },
    {
      "cell_type": "code",
      "source": [
        "file_path = '/content/drive/MyDrive/INFO555/Project2/v3/annotation_data.csv'\n",
        "df = pd.read_csv(file_path)"
      ],
      "metadata": {
        "id": "tiDa8_dHyYBi"
      },
      "execution_count": null,
      "outputs": []
    },
    {
      "cell_type": "code",
      "source": [
        "import pandas as pd\n",
        "from sklearn.model_selection import train_test_split\n",
        "from sklearn.metrics import accuracy_score, classification_report, confusion_matrix\n",
        "from transformers import pipeline\n",
        "import numpy as np\n",
        "\n",
        "# initialize zero-shot classification pipeline\n",
        "zero_shot_classifier = pipeline(\"zero-shot-classification\", model=\"facebook/bart-large-mnli\")\n",
        "\n",
        "# candidate labels with more detailed neutral descriptions\n",
        "sentiment_labels = [\n",
        "    'Positive',\n",
        "    'Negative',\n",
        "    'Neutral, factual, or objective',  # expanded neutral definition. to help the zero-shot classifier better recognize neutral content by providing more context about what \"neutral\" means\n",
        "]\n",
        "\n",
        "# classification function with enhanced neutral detection\n",
        "def classify_sentiment_improved(row):\n",
        "    sentence = row['Sentence']\n",
        "\n",
        "    result = zero_shot_classifier(\n",
        "        sentence,\n",
        "        candidate_labels=sentiment_labels,\n",
        "        hypothesis_template=\"This text is {}.\"\n",
        "    )\n",
        "\n",
        "    # scores and labels\n",
        "    scores = result['scores']\n",
        "    predicted_label = result['labels'][0]\n",
        "    max_score = max(scores)\n",
        "\n",
        "    # if the difference between top scores is small, likely neutral\n",
        "    score_difference = max_score - sorted(scores)[-2]\n",
        "\n",
        "    # check for neutral characteristics\n",
        "    factual_check = zero_shot_classifier(\n",
        "        sentence,\n",
        "        candidate_labels=['subjective opinion', 'objective fact'],\n",
        "        hypothesis_template=\"This text is {}.\"\n",
        "    )\n",
        "\n",
        "    # conditions for neutral classification:\n",
        "    # 1. small difference between positive/negative scores (uncertain classification)\n",
        "    # 2. high objective fact score\n",
        "    if (score_difference < 0.1 or\n",
        "        (factual_check['labels'][0] == 'objective fact' and\n",
        "         factual_check['scores'][0] > 0.7)):\n",
        "        return 'Neutral', max_score\n",
        "\n",
        "    return predicted_label.split(',')[0], max_score\n",
        "\n",
        "# improved classification\n",
        "def process_dataset(df):\n",
        "    df_sentiment = df[df['Category'] == 'Sentiment'].copy()\n",
        "    train_df, test_df = train_test_split(df_sentiment, test_size=0.2, random_state=42)\n",
        "\n",
        "    for dataset in [train_df, test_df]:\n",
        "        dataset['Predicted_Sentiment'], dataset['Sentiment_Score'] = zip(\n",
        "            *dataset.apply(classify_sentiment_improved, axis=1)\n",
        "        )\n",
        "\n",
        "    return train_df, test_df\n",
        "\n",
        "def evaluate_results(train_df, test_df):\n",
        "    for name, df in [('Training', train_df), ('Testing', test_df)]:\n",
        "        accuracy = accuracy_score(df['Annotation1'], df['Predicted_Sentiment'])\n",
        "        report = classification_report(df['Annotation1'], df['Predicted_Sentiment'])\n",
        "        confusion = confusion_matrix(df['Annotation1'], df['Predicted_Sentiment'])\n",
        "\n",
        "        print(f\"\\n{name} Results:\")\n",
        "        print(f\"Accuracy: {accuracy:.3f}\")\n",
        "        print(f\"Classification Report:\\n{report}\")\n",
        "        print(f\"Confusion Matrix:\\n{confusion}\")\n",
        "\n",
        "        # sample predictions\n",
        "        if name == 'Testing':\n",
        "            print(\"\\nSample Predictions:\")\n",
        "            print(df[['Sentence', 'Annotation1', 'Predicted_Sentiment', 'Sentiment_Score']].head())\n",
        "\n",
        "# main execution\n",
        "train_df, test_df = process_dataset(df)\n",
        "evaluate_results(train_df, test_df)"
      ],
      "metadata": {
        "colab": {
          "base_uri": "https://localhost:8080/"
        },
        "id": "vWvZpq1N568p",
        "outputId": "e22812ed-1349-4b27-ca2b-292ab590245b"
      },
      "execution_count": null,
      "outputs": [
        {
          "output_type": "stream",
          "name": "stdout",
          "text": [
            "\n",
            "Training Results:\n",
            "Accuracy: 0.807\n",
            "Classification Report:\n",
            "              precision    recall  f1-score   support\n",
            "\n",
            "    Negative       0.90      0.95      0.93        39\n",
            "     Neutral       0.00      0.00      0.00         8\n",
            "    Positive       0.81      0.83      0.82        41\n",
            "\n",
            "    accuracy                           0.81        88\n",
            "   macro avg       0.57      0.59      0.58        88\n",
            "weighted avg       0.78      0.81      0.79        88\n",
            "\n",
            "Confusion Matrix:\n",
            "[[37  2  0]\n",
            " [ 0  0  8]\n",
            " [ 4  3 34]]\n",
            "\n",
            "Testing Results:\n",
            "Accuracy: 0.682\n",
            "Classification Report:\n",
            "              precision    recall  f1-score   support\n",
            "\n",
            "    Negative       0.78      1.00      0.88         7\n",
            "     Neutral       0.50      0.33      0.40         6\n",
            "    Positive       0.67      0.67      0.67         9\n",
            "\n",
            "    accuracy                           0.68        22\n",
            "   macro avg       0.65      0.67      0.65        22\n",
            "weighted avg       0.66      0.68      0.66        22\n",
            "\n",
            "Confusion Matrix:\n",
            "[[7 0 0]\n",
            " [1 2 3]\n",
            " [1 2 6]]\n",
            "\n",
            "Sample Predictions:\n",
            "                                             Sentence Annotation1  \\\n",
            "78  The meeting was longer than expected, but we e...     Neutral   \n",
            "10  Even in silence, the room was filled with an u...    Positive   \n",
            "4   Though the journey was exhausting, something a...    Positive   \n",
            "84  Even though the project wasn't groundbreaking,...     Neutral   \n",
            "64  The constant pressure to meet unrealistic goal...    Negative   \n",
            "\n",
            "   Predicted_Sentiment  Sentiment_Score  \n",
            "78            Positive         0.648251  \n",
            "10            Positive         0.597245  \n",
            "4             Positive         0.844982  \n",
            "84            Positive         0.713185  \n",
            "64            Negative         0.844162  \n"
          ]
        }
      ]
    },
    {
      "cell_type": "code",
      "source": [
        "import matplotlib.pyplot as plt\n",
        "import numpy as np\n",
        "\n",
        "train_metrics = {\n",
        "    \"Negative\": {\"precision\": 0.90, \"recall\": 0.95, \"f1-score\": 0.93},\n",
        "    \"Neutral\": {\"precision\": 0.00, \"recall\": 0.00, \"f1-score\": 0.00},\n",
        "    \"Positive\": {\"precision\": 0.81, \"recall\": 0.83, \"f1-score\": 0.82},\n",
        "}\n",
        "\n",
        "test_metrics = {\n",
        "    \"Negative\": {\"precision\": 0.78, \"recall\": 1.00, \"f1-score\": 0.88},\n",
        "    \"Neutral\": {\"precision\": 0.50, \"recall\": 0.33, \"f1-score\": 0.40},\n",
        "    \"Positive\": {\"precision\": 0.67, \"recall\": 0.67, \"f1-score\": 0.67},\n",
        "}\n",
        "\n",
        "categories = [\"Negative\", \"Neutral\", \"Positive\"]\n",
        "metrics = [\"precision\", \"recall\", \"f1-score\"]\n",
        "x = np.arange(len(categories))\n",
        "width = 0.25\n",
        "\n",
        "plt.figure(figsize=(7, 6))\n",
        "for i, metric in enumerate(metrics):\n",
        "    plt.bar(\n",
        "        x + (i - 1) * width,\n",
        "        [train_metrics[cat][metric] for cat in categories],\n",
        "        width,\n",
        "        label=metric,\n",
        "    )\n",
        "\n",
        "plt.title(\"Training Metrics\")\n",
        "plt.xticks(x, categories)\n",
        "plt.ylim(0, 1.1)\n",
        "plt.ylabel(\"Score\")\n",
        "plt.legend()\n",
        "plt.show()\n",
        "\n",
        "plt.figure(figsize=(7, 6))\n",
        "for i, metric in enumerate(metrics):\n",
        "    plt.bar(\n",
        "        x + (i - 1) * width,\n",
        "        [test_metrics[cat][metric] for cat in categories],\n",
        "        width,\n",
        "        label=metric,\n",
        "    )\n",
        "\n",
        "plt.title(\"Testing Metrics\")\n",
        "plt.xticks(x, categories)\n",
        "plt.ylim(0, 1.1)\n",
        "plt.ylabel(\"Score\")\n",
        "plt.legend()\n",
        "plt.show()"
      ],
      "metadata": {
        "colab": {
          "base_uri": "https://localhost:8080/",
          "height": 1000
        },
        "id": "w4iOSAGMASO0",
        "outputId": "144f89ab-3d05-4ccc-8944-cadaec81823d"
      },
      "execution_count": null,
      "outputs": [
        {
          "output_type": "display_data",
          "data": {
            "text/plain": [
              "<Figure size 700x600 with 1 Axes>"
            ],
            "image/png": "[encoded data removed]"
          },
          "metadata": {}
        },
        {
          "output_type": "display_data",
          "data": {
            "text/plain": [
              "<Figure size 700x600 with 1 Axes>"
            ],
            "image/png": "[encoded data removed]"
          },
          "metadata": {}
        }
      ]
    }
  ]
}